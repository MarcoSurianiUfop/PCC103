{
 "cells": [
  {
   "cell_type": "markdown",
   "metadata": {},
   "source": [
    "## PCC103 Métodos Científicos - Exercício Teste T de Student\n",
    "Aluno: Marco Aurélio Moura Suriani"
   ]
  },
  {
   "cell_type": "code",
   "execution_count": 1,
   "metadata": {},
   "outputs": [],
   "source": [
    "# Bibliotecas\n",
    "import numpy as np\n",
    "import matplotlib.pyplot as plt\n",
    "from scipy import stats, special"
   ]
  },
  {
   "cell_type": "markdown",
   "metadata": {},
   "source": [
    "## 0) Dados para testes\n",
    "\n",
    "Serão criadas duas variáveis:\n",
    "1. **Variável x1:** tipo contínua com distribuição normal, $\\mu$ = 10.0, $\\sigma$ = 2.0, e n = 15 amostras\n",
    " * `random.seed(1)` permite que sempre retorne os mesmos resultados\n",
    " \n",
    "2. **Variável x2:** tipo contínua com distribuição normal, $\\mu$ = 8.0, $\\sigma$ = 2.0, e n = 12 amostras\n",
    " * `random.seed(2)` permite que sempre retorne os mesmos resultados"
   ]
  },
  {
   "cell_type": "code",
   "execution_count": 2,
   "metadata": {},
   "outputs": [
    {
     "name": "stdout",
     "output_type": "stream",
     "text": [
      "x1:\n",
      "[13.24869073  8.77648717  8.9436565   7.85406276 11.73081526  5.39692261\n",
      " 13.48962353  8.4775862  10.63807819  9.50125925 12.92421587  5.87971858\n",
      "  9.35516559  9.23189129 12.26753888]\n",
      "\n",
      "x2:\n",
      "[ 7.16648431  7.88746635  3.72760781 11.28054162  4.41312883  6.31650527\n",
      "  9.00576283  5.50942383  5.88409556  6.18198477  9.10290809 12.58441603]\n"
     ]
    }
   ],
   "source": [
    "np.random.seed(1)\n",
    "x1 = np.random.normal(10.0, 2.0, 15)\n",
    "\n",
    "print(\"x1:\")\n",
    "print(x1)\n",
    "\n",
    "np.random.seed(2)\n",
    "x2 = np.random.normal(8.0, 2.0, 12)\n",
    "\n",
    "print(\"\\nx2:\")\n",
    "print(x2)"
   ]
  },
  {
   "cell_type": "markdown",
   "metadata": {},
   "source": [
    "## 1) Funções de Média, Desvio Padrão e da Distribuição t-Student\n",
    "\n",
    "* Funções estatísticas: `my_mean`, `my_variance` e `my_std_dev`\n",
    "* Funções t-Student: `my_t_distribution_pdf`, `my_t_distribution_cdf` e `my_t_distribution_cdf2`\n",
    "* Funções reaproveitadas dos exercícios anteriores"
   ]
  },
  {
   "cell_type": "code",
   "execution_count": 3,
   "metadata": {},
   "outputs": [],
   "source": [
    "def my_mean(data):\n",
    "    return sum(data)/len(data)\n",
    "\n",
    "def my_variance(data):\n",
    "    xb = sum(data)/len(data)\n",
    "    return sum([(xi - xb)**2 for xi in data])/(len(data)-1) \n",
    "\n",
    "def my_std_dev(data):\n",
    "    xb = sum(data)/len(data)\n",
    "    return np.sqrt( sum([(xi - xb)**2 for xi in data])/(len(data)-1) )\n",
    "\n",
    "def my_t_distribution_pdf(x, v):    \n",
    "    return pow(1 + (x**2/v), (v+1)/(-2)) * special.gamma((v+1)/2) / (np.sqrt(np.pi * v) * special.gamma(v/2) )\n",
    "\n",
    "def my_t_distribution_cdf(x, v): \n",
    "    aux = special.hyp2f1(0.5, (v+1)/2, 1.5, x**2/(-v)) / (np.sqrt(np.pi * v) * special.gamma(v/2) )\n",
    "    return 0.5 + x*special.gamma((v+1)/2) * aux\n",
    "\n",
    "def my_t_distribution_cdf2(x1, x2, v): \n",
    "    return my_t_distribution_cdf(x2, v) - my_t_distribution_cdf(x1, v)"
   ]
  },
  {
   "cell_type": "markdown",
   "metadata": {},
   "source": [
    "## 2) Teste t-Student\n",
    "\n",
    "* Função `my_t_distribution_test`\n",
    "* Calcula o o valor de teste T e o valor p para diferença entre amostras\n",
    "* Usa função prévias como auxílio: `my_mean`, `my_variance` e `my_t_distribution_cdf`"
   ]
  },
  {
   "cell_type": "code",
   "execution_count": 4,
   "metadata": {},
   "outputs": [],
   "source": [
    "def my_t_distribution_test(x1, x2): \n",
    "    xb1, s21 = my_mean(x1), my_variance(x1)\n",
    "    xb2, s22 = my_mean(x2), my_variance(x2)\n",
    "    n = len(x1) + len(x2) - 2\n",
    "    \n",
    "    T = (xb1 - xb2)/np.sqrt((s21 + s22)/n)\n",
    "    \n",
    "    return T, my_t_distribution_cdf(-T, n) + (1 - my_t_distribution_cdf(T, n))"
   ]
  },
  {
   "cell_type": "code",
   "execution_count": 5,
   "metadata": {},
   "outputs": [
    {
     "name": "stdout",
     "output_type": "stream",
     "text": [
      "x1: μ = 10 e σ = 2 (15 amostras) \n",
      "x2: μ =  8 e σ = 2 (12 amostras)\n",
      "\n",
      "Teste T = 3.305589\n",
      "p-value = 0.002865\n"
     ]
    }
   ],
   "source": [
    "# Pequeno teste\n",
    "T, p = my_t_distribution_test(x1, x2)\n",
    "\n",
    "print(\"x1: \\u03BC = 10 e \\u03C3 = 2 (15 amostras) \\nx2: \\u03BC =  8 e \\u03C3 = 2 (12 amostras)\\n\")\n",
    "print(\"Teste T = %.6f\" %T)\n",
    "if (p > 1e-6): print(\"p-value = %.6f\" %p)\n",
    "else: print(\"p-value < 1e-6\")"
   ]
  },
  {
   "cell_type": "code",
   "execution_count": 6,
   "metadata": {},
   "outputs": [
    {
     "name": "stdout",
     "output_type": "stream",
     "text": [
      "x3: μ = 16 e σ = 2 (15 amostras) \n",
      "x4: μ =  8 e σ = 2 (12 amostras)\n",
      "\n",
      "Teste T = 11.480925\n",
      "p-value < 1e-6\n"
     ]
    }
   ],
   "source": [
    "# Outro teste: muito longe\n",
    "np.random.seed(1)\n",
    "x3 = np.random.normal(16.0, 2.0, 15)\n",
    "\n",
    "np.random.seed(2)\n",
    "x4 = np.random.normal(8.0, 2.0, 12)\n",
    "\n",
    "T, p = my_t_distribution_test(x3, x4)\n",
    "\n",
    "print(\"x3: \\u03BC = 16 e \\u03C3 = 2 (15 amostras) \\nx4: \\u03BC =  8 e \\u03C3 = 2 (12 amostras)\\n\")\n",
    "print(\"Teste T = %.6f\" %T)\n",
    "if (p > 1e-6): print(\"p-value = %.6f\" %p)\n",
    "else: print(\"p-value < 1e-6\")"
   ]
  },
  {
   "cell_type": "code",
   "execution_count": 7,
   "metadata": {},
   "outputs": [
    {
     "name": "stdout",
     "output_type": "stream",
     "text": [
      "x5: μ = 10 e σ = 3 (15 amostras) \n",
      "x6: μ =  9 e σ = 3 (12 amostras)\n",
      "\n",
      "Teste T = 1.488847\n",
      "p-value = 0.149035\n"
     ]
    }
   ],
   "source": [
    "# Outro teste: muito perto\n",
    "np.random.seed(1)\n",
    "x5 = np.random.normal(10.0, 3.0, 15)\n",
    "\n",
    "np.random.seed(2)\n",
    "x6 = np.random.normal(9.0, 3.0, 12)\n",
    "\n",
    "T, p = my_t_distribution_test(x5, x6)\n",
    "\n",
    "print(\"x5: \\u03BC = 10 e \\u03C3 = 3 (15 amostras) \\nx6: \\u03BC =  9 e \\u03C3 = 3 (12 amostras)\\n\")\n",
    "print(\"Teste T = %.6f\" %T)\n",
    "if (p > 1e-6): print(\"p-value = %.6f\" %p)\n",
    "else: print(\"p-value < 1e-6\")"
   ]
  }
 ],
 "metadata": {
  "kernelspec": {
   "display_name": "Python 3",
   "language": "python",
   "name": "python3"
  },
  "language_info": {
   "codemirror_mode": {
    "name": "ipython",
    "version": 3
   },
   "file_extension": ".py",
   "mimetype": "text/x-python",
   "name": "python",
   "nbconvert_exporter": "python",
   "pygments_lexer": "ipython3",
   "version": "3.6.5"
  }
 },
 "nbformat": 4,
 "nbformat_minor": 2
}
