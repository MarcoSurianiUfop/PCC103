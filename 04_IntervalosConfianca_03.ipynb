{
 "cells": [
  {
   "cell_type": "markdown",
   "metadata": {},
   "source": [
    "## PCC103 Métodos Científicos - Exercício Intervalos de Confiança #03\n",
    "Aluno: Marco Aurélio Moura Suriani"
   ]
  },
  {
   "cell_type": "code",
   "execution_count": 1,
   "metadata": {},
   "outputs": [],
   "source": [
    "# Bibliotecas\n",
    "import numpy as np\n",
    "import matplotlib.pyplot as plt\n",
    "from scipy import stats, special"
   ]
  },
  {
   "cell_type": "markdown",
   "metadata": {},
   "source": [
    "## 0) Dados para testes\n",
    "\n",
    "Será criada uma variável:\n",
    "1. **Variável x:** tipo contínua com distribuição normal, $\\mu$ = 10.0, $\\sigma$ = 2.0, e n = 15 amostras\n",
    " * `random.seed(1)` permite que sempre retorne os mesmos resultados"
   ]
  },
  {
   "cell_type": "code",
   "execution_count": 2,
   "metadata": {},
   "outputs": [
    {
     "name": "stdout",
     "output_type": "stream",
     "text": [
      "[13.24869073  8.77648717  8.9436565   7.85406276 11.73081526  5.39692261\n",
      " 13.48962353  8.4775862  10.63807819  9.50125925 12.92421587  5.87971858\n",
      "  9.35516559  9.23189129 12.26753888]\n"
     ]
    }
   ],
   "source": [
    "np.random.seed(1)\n",
    "x = np.random.normal(10.0, 2.0, 15)\n",
    "\n",
    "print(x)"
   ]
  },
  {
   "cell_type": "markdown",
   "metadata": {},
   "source": [
    "## 1) Funções de Média, Desvio Padrão e da Distribuição t-Student\n",
    "\n",
    "* Funções estatísticas: `my_mean`, `my_variance` e `my_std_dev`\n",
    "* Funções t-Student: `my_t_distribution_pdf`, `my_t_distribution_cdf` e `my_t_distribution_cdf2`\n",
    "* Funções reaproveitadas do exercício anterior"
   ]
  },
  {
   "cell_type": "code",
   "execution_count": 3,
   "metadata": {},
   "outputs": [],
   "source": [
    "def my_mean(data):\n",
    "    return sum(data)/len(data)\n",
    "\n",
    "def my_variance(data):\n",
    "    xb = sum(data)/len(data)\n",
    "    return sum([(xi - xb)**2 for xi in data])/(len(data)-1) \n",
    "\n",
    "def my_std_dev(data):\n",
    "    xb = sum(data)/len(data)\n",
    "    return np.sqrt( sum([(xi - xb)**2 for xi in data])/(len(data)-1) )\n",
    "\n",
    "def my_t_distribution_pdf(x, v):    \n",
    "    return pow(1 + (x**2/v), (v+1)/(-2)) * special.gamma((v+1)/2) / (np.sqrt(np.pi * v) * special.gamma(v/2) )\n",
    "\n",
    "def my_t_distribution_cdf(x, v): \n",
    "    aux = special.hyp2f1(0.5, (v+1)/2, 1.5, x**2/(-v)) / (np.sqrt(np.pi * v) * special.gamma(v/2) )\n",
    "    return 0.5 + x*special.gamma((v+1)/2) * aux\n",
    "\n",
    "def my_t_distribution_cdf2(x1, x2, v): \n",
    "    return my_t_distribution_cdf(x2, v) - my_t_distribution_cdf(x1, v)"
   ]
  },
  {
   "cell_type": "markdown",
   "metadata": {},
   "source": [
    "## 2) CDF Inversa da Distribuição t-Student\n",
    "\n",
    "* Função `my_t_distribution_cdf_inverse`\n",
    "* Usa funções prévias + busca binária, podendo editar o erro (default = 1e-5)"
   ]
  },
  {
   "cell_type": "code",
   "execution_count": 4,
   "metadata": {},
   "outputs": [],
   "source": [
    "def my_t_distribution_cdf_inverse(p, v, delta = 1e-5): \n",
    "    l = -100\n",
    "    r = 100\n",
    "    conta = 0\n",
    "    \n",
    "    while(True):\n",
    "        m = (l+r)/2\n",
    "        dp = my_t_distribution_cdf( m , v) - p\n",
    "        if abs(dp) < delta: return m\n",
    "        elif dp > 0: r = m\n",
    "        else: l = m\n",
    "        \n",
    "        conta += 1\n",
    "        if conta > 10000: return None"
   ]
  },
  {
   "cell_type": "code",
   "execution_count": 5,
   "metadata": {},
   "outputs": [
    {
     "name": "stdout",
     "output_type": "stream",
     "text": [
      "1.0000228881835938\n",
      "True\n"
     ]
    }
   ],
   "source": [
    "# Pequeno teste\n",
    "p = my_t_distribution_cdf(1, 5)\n",
    "t = my_t_distribution_cdf_inverse(p, 5)\n",
    "\n",
    "print(t)\n",
    "print(abs(my_t_distribution_cdf(t, 5) - p) < 1e-5)"
   ]
  },
  {
   "cell_type": "markdown",
   "metadata": {},
   "source": [
    "## 3) Intervalo de Confiança com Distribuição t-Student\n",
    "\n",
    "* Função `my_t_distribution_confidence_interval`\n",
    "* Usa funções prévias + busca binária, podendo editar o erro (default = 1e-5)\n",
    "* Testa com array x"
   ]
  },
  {
   "cell_type": "code",
   "execution_count": 6,
   "metadata": {},
   "outputs": [],
   "source": [
    "def my_t_distribution_confidence_interval(data, alpha):\n",
    "    \n",
    "    # Tamanho, média e despad\n",
    "    n = len(data)\n",
    "    xb = my_mean(data)\n",
    "    sx = my_std_dev(data)\n",
    "    \n",
    "    # Cálculo do valor de t(a/2, n-1)\n",
    "    p = 1 - alpha/2\n",
    "    t = my_t_distribution_cdf_inverse(p, n - 1)\n",
    "    \n",
    "    return [xb - t*sx/np.sqrt(n), xb + t*sx/np.sqrt(n)]"
   ]
  },
  {
   "cell_type": "code",
   "execution_count": 7,
   "metadata": {},
   "outputs": [
    {
     "name": "stdout",
     "output_type": "stream",
     "text": [
      "Amostra:\n",
      "[13.24869073  8.77648717  8.9436565   7.85406276 11.73081526  5.39692261\n",
      " 13.48962353  8.4775862  10.63807819  9.50125925 12.92421587  5.87971858\n",
      "  9.35516559  9.23189129 12.26753888]\n",
      "\n",
      "IC (95.00 % ): [ 8.4560  , 11.2394  ]\n"
     ]
    }
   ],
   "source": [
    "# Perqueno teste 2\n",
    "alpha = 0.05\n",
    "ic = my_t_distribution_confidence_interval(x, alpha)\n",
    "\n",
    "print('Amostra:')\n",
    "print(x)\n",
    "print(\"\\nIC (%.2f\" %((1-alpha)*100), \"%\", \"): [ %.4f\"%ic[0], \" , %.4f\" %ic[1], \" ]\")"
   ]
  }
 ],
 "metadata": {
  "kernelspec": {
   "display_name": "Python 3",
   "language": "python",
   "name": "python3"
  },
  "language_info": {
   "codemirror_mode": {
    "name": "ipython",
    "version": 3
   },
   "file_extension": ".py",
   "mimetype": "text/x-python",
   "name": "python",
   "nbconvert_exporter": "python",
   "pygments_lexer": "ipython3",
   "version": "3.6.5"
  }
 },
 "nbformat": 4,
 "nbformat_minor": 2
}
