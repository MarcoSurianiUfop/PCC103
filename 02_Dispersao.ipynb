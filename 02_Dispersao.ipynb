{
 "cells": [
  {
   "cell_type": "markdown",
   "metadata": {},
   "source": [
    "## PCC103 Métodos Científicos - Exercício Dispersão\n",
    "\n",
    "Aluno: Marco Aurélio Moura Suriani"
   ]
  },
  {
   "cell_type": "code",
   "execution_count": 1,
   "metadata": {},
   "outputs": [],
   "source": [
    "# Bibliotecas\n",
    "import numpy as np\n",
    "import matplotlib.pyplot as plt\n",
    "from scipy import stats\n",
    "import copy"
   ]
  },
  {
   "cell_type": "markdown",
   "metadata": {},
   "source": [
    "## 0) Dados para testes\n",
    "\n",
    "Será criada uma variável:\n",
    "1. **Variável x:** tipo contínua com distribuição normal, $\\mu$ = 10.0, $\\sigma$ = 2.0, e n = 10000 amostras\n",
    " * `random.seed(1)` permite que sempre retorne os mesmos resultados\n",
    " * Plot histograma com 100 classes"
   ]
  },
  {
   "cell_type": "code",
   "execution_count": 2,
   "metadata": {},
   "outputs": [
    {
     "data": {
      "image/png": "[encoded data removed]",
      "text/plain": [
       "<Figure size 432x288 with 1 Axes>"
      ]
     },
     "metadata": {},
     "output_type": "display_data"
    }
   ],
   "source": [
    "np.random.seed(1)\n",
    "x = np.random.normal(10.0, 2.0, 10000)\n",
    "\n",
    "plt.hist(x, 100)\n",
    "plt.show()"
   ]
  },
  {
   "cell_type": "markdown",
   "metadata": {},
   "source": [
    "## 1) Intervalo\n",
    "\n",
    "* Função: `my_interval`\n",
    "* Testada sobre um vetor com amostras contínuas em distribuição normal (x)\n",
    "* Comparada com: intervalo do numpy (`np.min` e `np.max`)"
   ]
  },
  {
   "cell_type": "code",
   "execution_count": 3,
   "metadata": {},
   "outputs": [],
   "source": [
    "def my_interval(data):\n",
    "    min, max = data[0], data[0]\n",
    "    for i in data[1:]:\n",
    "        if i < min: min = i;\n",
    "        elif i > max: max = i;\n",
    "    return [min, max]"
   ]
  },
  {
   "cell_type": "code",
   "execution_count": 4,
   "metadata": {},
   "outputs": [
    {
     "name": "stdout",
     "output_type": "stream",
     "text": [
      "Intervalo do vetor x em 2 métodos:\n",
      "\n",
      "          numpy :  2.68712  ; 18.05370\n",
      "    my_interval :  2.68712  ; 18.05370\n"
     ]
    }
   ],
   "source": [
    "interval_results = {\"numpy\": [np.min(x), np.max(x)], \"my_interval\": my_interval(x)}\n",
    "\n",
    "print(\"Intervalo do vetor x em 2 métodos:\\n\")\n",
    "# Iterate over key/value pairs in dict and print them\n",
    "for key, value in interval_results.items():\n",
    "    print(\"%15s\" % key, ': ', \"%.5f\" % value[0], \" ; %.5f\" % value[1])"
   ]
  },
  {
   "cell_type": "markdown",
   "metadata": {},
   "source": [
    "## 2) Variância\n",
    "\n",
    "* Função: `my_variance`\n",
    "* Testada sobre um vetor com amostras contínuas em distribuição normal (x)\n",
    "* Comparada com: variância da amostra (argumento da função `np.random.normal`) e variância do numpy (`np.var`)"
   ]
  },
  {
   "cell_type": "code",
   "execution_count": 5,
   "metadata": {},
   "outputs": [],
   "source": [
    "def my_variance(data):\n",
    "    xb = sum(data)/len(data)\n",
    "    return sum([(xi - xb)**2 for xi in data])/(len(data)-1) "
   ]
  },
  {
   "cell_type": "code",
   "execution_count": 6,
   "metadata": {},
   "outputs": [
    {
     "name": "stdout",
     "output_type": "stream",
     "text": [
      "Variância do vetor x em 3 métodos:\n",
      "\n",
      "amostra :  4.000000\n",
      "  numpy :  3.990692\n",
      "my_mode :  3.990692\n"
     ]
    }
   ],
   "source": [
    "var_results = {\"amostra\": 4, \n",
    "                \"numpy\": np.var(x, ddof=1), \n",
    "                \"my_mode\": my_variance(x)}\n",
    "\n",
    "print(\"Variância do vetor x em 3 métodos:\\n\")\n",
    "# Iterate over key/value pairs in dict and print them\n",
    "for key, value in var_results.items():\n",
    "    print(\"%7s\" % key, ': ', \"%.6f\" % value)"
   ]
  },
  {
   "cell_type": "markdown",
   "metadata": {},
   "source": [
    "## 3) Desvio Padrão\n",
    "\n",
    "* Função: `my_std_dev`\n",
    "* Testada sobre um vetor com amostras contínuas em distribuição normal (x)\n",
    "* Comparada com: variância da amostra (argumento da função `np.random.normal`) e desvio padrão do numpy (`np.std`)"
   ]
  },
  {
   "cell_type": "code",
   "execution_count": 7,
   "metadata": {},
   "outputs": [],
   "source": [
    "def my_std_dev(data):\n",
    "    xb = sum(data)/len(data)\n",
    "    return np.sqrt( sum([(xi - xb)**2 for xi in data])/(len(data)-1) )"
   ]
  },
  {
   "cell_type": "code",
   "execution_count": 8,
   "metadata": {},
   "outputs": [
    {
     "name": "stdout",
     "output_type": "stream",
     "text": [
      "Desvio Padrão do vetor x em 3 métodos:\n",
      "\n",
      "   amostra :  2.000000\n",
      "     numpy :  1.997672\n",
      "my_std_dev :  1.997672\n"
     ]
    }
   ],
   "source": [
    "var_results = {\"amostra\": 2, \n",
    "                \"numpy\": np.std(x, ddof=1), \n",
    "                \"my_std_dev\": my_std_dev(x)}\n",
    "\n",
    "print(\"Desvio Padrão do vetor x em 3 métodos:\\n\")\n",
    "# Iterate over key/value pairs in dict and print them\n",
    "for key, value in var_results.items():\n",
    "    print(\"%10s\" % key, ': ', \"%.6f\" % value)"
   ]
  }
 ],
 "metadata": {
  "kernelspec": {
   "display_name": "Python 3",
   "language": "python",
   "name": "python3"
  },
  "language_info": {
   "codemirror_mode": {
    "name": "ipython",
    "version": 3
   },
   "file_extension": ".py",
   "mimetype": "text/x-python",
   "name": "python",
   "nbconvert_exporter": "python",
   "pygments_lexer": "ipython3",
   "version": "3.6.5"
  }
 },
 "nbformat": 4,
 "nbformat_minor": 2
}
