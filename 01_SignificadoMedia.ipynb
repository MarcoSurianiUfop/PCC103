{
 "cells": [
  {
   "cell_type": "markdown",
   "metadata": {},
   "source": [
    "## PCC103 Métodos Científicos - Exercício Significado Média\n",
    "\n",
    "Aluno: Marco Aurélio Moura Suriani"
   ]
  },
  {
   "cell_type": "code",
   "execution_count": 1,
   "metadata": {},
   "outputs": [],
   "source": [
    "# Bibliotecas\n",
    "import numpy as np\n",
    "import matplotlib.pyplot as plt\n",
    "from scipy import stats\n",
    "import copy"
   ]
  },
  {
   "cell_type": "markdown",
   "metadata": {},
   "source": [
    "## 0) Dados para testes\n",
    "\n",
    "Serão criadas duas variáveis:\n",
    "1. **Variável x:** tipo contínua com distribuição normal, $\\mu$ = 10.0, $\\sigma$ = 2.0, e n = 10000 amostras\n",
    " * `random.seed(1)` permite que sempre retorne os mesmos resultados\n",
    " * Plot histograma com 100 classes\n",
    " \n",
    "2. **Variável xi:** tipo discreta com distribuição normal, $\\mu$ = 10.0, $\\sigma$ = 2.0, e n = 10000 amostras\n",
    " * Resultado do arredondamento para baixo dos valores de **x** usando `np.floor(x)`\n",
    " * Imprime tabela de frequência de cada classe e plot respectivo histograma"
   ]
  },
  {
   "cell_type": "code",
   "execution_count": 2,
   "metadata": {},
   "outputs": [
    {
     "data": {
      "image/png": "[encoded data removed]",
      "text/plain": [
       "<Figure size 432x288 with 1 Axes>"
      ]
     },
     "metadata": {},
     "output_type": "display_data"
    }
   ],
   "source": [
    "np.random.seed(1)\n",
    "x = np.random.normal(10.0, 2.0, 10000)\n",
    "\n",
    "plt.hist(x, 100)\n",
    "plt.show()"
   ]
  },
  {
   "cell_type": "code",
   "execution_count": 3,
   "metadata": {},
   "outputs": [
    {
     "name": "stdout",
     "output_type": "stream",
     "text": [
      " 2  :  1\n",
      " 3  :  10\n",
      " 4  :  51\n",
      " 5  :  164\n",
      " 6  :  428\n",
      " 7  :  909\n",
      " 8  :  1484\n",
      " 9  :  1915\n",
      "10  :  1934\n",
      "11  :  1525\n",
      "12  :  873\n",
      "13  :  467\n",
      "14  :  175\n",
      "15  :  46\n",
      "16  :  13\n",
      "17  :  4\n",
      "18  :  1\n"
     ]
    },
    {
     "data": {
      "image/png": "[encoded data removed]",
      "text/plain": [
       "<Figure size 432x288 with 1 Axes>"
      ]
     },
     "metadata": {},
     "output_type": "display_data"
    }
   ],
   "source": [
    "xi = np.array([int(i) for i in np.floor(x)])\n",
    "\n",
    "for i in range(min(xi), max(xi) + 1):\n",
    "    print(\"%2i\" % i, \" : \", \"%i\" % sum([j == i for j in xi]))\n",
    "    \n",
    "plt.hist(x, max(xi) - min(xi) + 1)\n",
    "plt.show()"
   ]
  },
  {
   "cell_type": "markdown",
   "metadata": {},
   "source": [
    "## 1) Média\n",
    "\n",
    "* Função: `my_mean`\n",
    "* Testada sobre um vetor com amostras contínuas em distribuição normal (x)\n",
    "* Comparada com: média da amostra (argumento da função `np.random.normal`) e média do numpy (`np.mean`)"
   ]
  },
  {
   "cell_type": "code",
   "execution_count": 4,
   "metadata": {},
   "outputs": [],
   "source": [
    "def my_mean(data):\n",
    "    return sum(data)/len(data)"
   ]
  },
  {
   "cell_type": "code",
   "execution_count": 5,
   "metadata": {},
   "outputs": [
    {
     "name": "stdout",
     "output_type": "stream",
     "text": [
      "Média do vetor x em 3 métodos:\n",
      "\n",
      "amostra :  10.00000\n",
      "  numpy :  10.01955\n",
      "my_mean :  10.01955\n"
     ]
    }
   ],
   "source": [
    "mean_results = {\"amostra\": 10.0, \"numpy\": np.mean(x), \"my_mean\": my_mean(x)}\n",
    "\n",
    "print(\"Média do vetor x em 3 métodos:\\n\")\n",
    "# Iterate over key/value pairs in dict and print them\n",
    "for key, value in mean_results.items():\n",
    "    print(\"%7s\" % key, ': ', \"%.5f\" % value)"
   ]
  },
  {
   "cell_type": "markdown",
   "metadata": {},
   "source": [
    "## 2) Moda\n",
    "\n",
    "* Função: `my_mode`\n",
    "* Retorna lista com moda e quantidade de elementos da classe modal\n",
    "* Testada sobre um vetor com amostras discretas em distribuição normal (xi)\n",
    "* Comparada com: moda da amostra (calculada manualmente) e moda do scipy (`scipy.stats.mode`)"
   ]
  },
  {
   "cell_type": "code",
   "execution_count": 6,
   "metadata": {},
   "outputs": [],
   "source": [
    "def my_mode(data):\n",
    "    freq_table = {}\n",
    "    \n",
    "    for d in data:\n",
    "        if d in freq_table:\n",
    "            freq_table[d] += 1\n",
    "        else:\n",
    "            freq_table[d] = 1\n",
    "    \n",
    "    m = [[key, value] for key, value in freq_table.items() if value == max(freq_table.values())]\n",
    "    \n",
    "    return m"
   ]
  },
  {
   "cell_type": "code",
   "execution_count": 7,
   "metadata": {},
   "outputs": [
    {
     "name": "stdout",
     "output_type": "stream",
     "text": [
      "Moda do vetor xi em 3 métodos:\n",
      "\n",
      "amostra :  10  ,  1934  amostras\n",
      "  scipy :  10  ,  1934  amostras\n",
      "my_mode :  10  ,  1934  amostras\n"
     ]
    }
   ],
   "source": [
    "mode_results = {\"amostra\": [10, sum([i == 10 for i in xi])], \n",
    "                \"scipy\": [stats.mode(xi)[0][0], stats.mode(xi)[1][0]], \n",
    "                \"my_mode\": my_mode(xi)[0]}\n",
    "\n",
    "print(\"Moda do vetor xi em 3 métodos:\\n\")\n",
    "# Iterate over key/value pairs in dict and print them\n",
    "for key, value in mode_results.items():\n",
    "    print(\"%7s\" % key, ': ', \"%i\" % value[0], ' , ', \"%i\" % value[1], ' amostras')"
   ]
  },
  {
   "cell_type": "markdown",
   "metadata": {},
   "source": [
    "## 3) Percentil\n",
    "\n",
    "* Função: `my_percentile`\n",
    "* Funções auxiliares: `my_LomutoPartition` e `my_QuickSelect`\n",
    "* Testada sobre um vetor com amostras contínuas em distribuição normal (x)\n",
    "* Comparada com: percentil do numpy (`np.percentile`)"
   ]
  },
  {
   "cell_type": "code",
   "execution_count": 8,
   "metadata": {},
   "outputs": [],
   "source": [
    "def my_LomutoPartition(A, left, right):\n",
    "    #  Implementação do algoritmo Lomuto Partition\n",
    "    # Particiona um subarranjo usando o primeiro elemaento como pivô\n",
    "    # ENTRADAS:\n",
    "    # Ponteiro para Vetor A com elementos de qualquer datatype\n",
    "    # Inteiros com o range do subarranjo (left e right)\n",
    "    # SAÍDA:\n",
    "    # Vetor A[left ... range] particionado\n",
    "    # Inteiro s com índice do novo pivô\n",
    "    \n",
    "    # Pivô é primeiro elemento \n",
    "    p = A[left]\n",
    "    \n",
    "    # Índice do novo pivô começa no primeiro elemento\n",
    "    s = left\n",
    "    \n",
    "    # Percorre os elementos do subarranjo\n",
    "    for i in range (left + 1, right+1):\n",
    "        # Para cada elemento menor que o pivô\n",
    "        if (A[i] < p):\n",
    "            \n",
    "            # Novo pivô avança uma posição\n",
    "            s += 1\n",
    "            \n",
    "            # Troca elemento atual de posição com pivô atual\n",
    "            A[s], A[i] = A[i], A[s]\n",
    "    \n",
    "    # Troca o pivô inicial com novo pivô\n",
    "    A[s], A[left] = A[left], A[s]\n",
    "    \n",
    "    return s\n",
    "\n",
    "def my_QuickSelect(A, left, right, k):\n",
    "    #  Implementação do QUICK SELECT   \n",
    "    # Seleciona o k-ésimo elemento com o auxílio de um algoritmo de partição\n",
    "    # ENTRADAS:\n",
    "    # Ponteiro para Vetor A com elementos de qualquer datatype\n",
    "    # Inteiros com o range do subarranjo (left e right)\n",
    "    # Cardinalidade k do elemento a ser selecionado\n",
    "    # SAÍDA:\n",
    "    # Elemento selecionado\n",
    "\n",
    "    # Realiza a Partição de Lomuto\n",
    "    s = my_LomutoPartition(A, left, right)\n",
    "\n",
    "    # Se o novo pivô é igual à cardinalidade k, retorne o elemento em tal posição\n",
    "    if (s == k):\n",
    "        return A[s]\n",
    "\n",
    "    # Caso a cardinalidade seja menor que o novo pivô, faça uma recursão\n",
    "    # atualizando o limite superior para s - 1\n",
    "    if (k < s):\n",
    "        return my_QuickSelect(A, left, s - 1, k)\n",
    "    \n",
    "    # Caso a cardinalidade seja maior ou igual que o novo pivô, faça uma recursão\n",
    "    # atualizando o limite inferior para s + 1\n",
    "    return my_QuickSelect(A, s + 1, right, k)\n",
    "\n",
    "def my_percentile(arr, p):\n",
    "    A = copy.copy(arr)\n",
    "    n = len(A)\n",
    "    k = (n - 1) * p / 100\n",
    "    d = k - np.floor(k)\n",
    "\n",
    "    # Se k for um inteiro, retorne sua posição\n",
    "    if (d == 0):\n",
    "        return my_QuickSelect(A, 0, n-1, k)\n",
    "    else:\n",
    "        # Caso contrário, pondere\n",
    "        return (1-d)*my_QuickSelect(A, 0, n-1, np.floor(k)) + (d)*my_QuickSelect(A, 0, n-1, np.ceil(k))"
   ]
  },
  {
   "cell_type": "code",
   "execution_count": 9,
   "metadata": {},
   "outputs": [
    {
     "name": "stdout",
     "output_type": "stream",
     "text": [
      "Percentil 25  do vetor x em 2 métodos:\n",
      "\n",
      "        numpy :  8.67415\n",
      "my_percentile :  8.67415\n"
     ]
    }
   ],
   "source": [
    "p = 25\n",
    "\n",
    "percentile_results = {\"numpy\": np.percentile(x, p), \"my_percentile\": my_percentile(x, p)}\n",
    "\n",
    "print(\"Percentil %i\" %p, \" do vetor x em 2 métodos:\\n\")\n",
    "# Iterate over key/value pairs in dict and print them\n",
    "for key, value in percentile_results.items():\n",
    "    print(\"%13s\" % key, ': ', \"%.5f\" % value)"
   ]
  },
  {
   "cell_type": "code",
   "execution_count": 10,
   "metadata": {},
   "outputs": [
    {
     "name": "stdout",
     "output_type": "stream",
     "text": [
      "Percentil 87  do vetor x em 2 métodos:\n",
      "\n",
      "        numpy :  12.25793\n",
      "my_percentile :  12.25793\n"
     ]
    }
   ],
   "source": [
    "p = 87\n",
    "\n",
    "percentile_results = {\"numpy\": np.percentile(x, p), \"my_percentile\": my_percentile(x, p)}\n",
    "\n",
    "print(\"Percentil %i\" %p, \" do vetor x em 2 métodos:\\n\")\n",
    "# Iterate over key/value pairs in dict and print them\n",
    "for key, value in percentile_results.items():\n",
    "    print(\"%13s\" % key, ': ', \"%.5f\" % value)"
   ]
  },
  {
   "cell_type": "markdown",
   "metadata": {},
   "source": [
    "## 4) Mediana\n",
    "\n",
    "* Função: `my_median`\n",
    "* Funções auxiliares: `my_percentile`, `my_LomutoPartition` e `my_QuickSelect`\n",
    "* Testada sobre um vetor com amostras contínuas em distribuição normal (x)\n",
    "* Comparada com: mediana do numpy (`np.median`)"
   ]
  },
  {
   "cell_type": "code",
   "execution_count": 11,
   "metadata": {},
   "outputs": [],
   "source": [
    "def my_median(data):\n",
    "    return my_percentile(data, 50)"
   ]
  },
  {
   "cell_type": "code",
   "execution_count": 12,
   "metadata": {},
   "outputs": [
    {
     "name": "stdout",
     "output_type": "stream",
     "text": [
      "Mediana do vetor x em 2 métodos:\n",
      "\n",
      "        numpy :  10.01691\n",
      "my_percentile :  10.01691\n"
     ]
    }
   ],
   "source": [
    "median_results = {\"numpy\": np.median(x), \"my_percentile\": my_median(x)}\n",
    "\n",
    "print(\"Mediana do vetor x em 2 métodos:\\n\")\n",
    "# Iterate over key/value pairs in dict and print them\n",
    "for key, value in median_results.items():\n",
    "    print(\"%13s\" % key, ': ', \"%.5f\" % value)"
   ]
  }
 ],
 "metadata": {
  "kernelspec": {
   "display_name": "Python 3",
   "language": "python",
   "name": "python3"
  },
  "language_info": {
   "codemirror_mode": {
    "name": "ipython",
    "version": 3
   },
   "file_extension": ".py",
   "mimetype": "text/x-python",
   "name": "python",
   "nbconvert_exporter": "python",
   "pygments_lexer": "ipython3",
   "version": "3.6.5"
  }
 },
 "nbformat": 4,
 "nbformat_minor": 2
}
